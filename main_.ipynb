{
 "cells": [
  {
   "cell_type": "code",
   "execution_count": 4,
   "metadata": {},
   "outputs": [
    {
     "name": "stderr",
     "output_type": "stream",
     "text": [
      "/var/folders/l4/_20yvrmx3z10qwhdq9ngyqrc0000gn/T/ipykernel_2968/1813339036.py:4: DtypeWarning: Columns (25,108) have mixed types. Specify dtype option on import or set low_memory=False.\n",
      "  players=pd.read_csv('players_22.csv')\n"
     ]
    }
   ],
   "source": [
    "import pandas as pd\n",
    "import numpy as np\n",
    "\n",
    "players=pd.read_csv('players_22.csv')\n",
    "\n"
   ]
  },
  {
   "cell_type": "code",
   "execution_count": 7,
   "metadata": {},
   "outputs": [
    {
     "data": {
      "text/html": [
       "<div>\n",
       "<style scoped>\n",
       "    .dataframe tbody tr th:only-of-type {\n",
       "        vertical-align: middle;\n",
       "    }\n",
       "\n",
       "    .dataframe tbody tr th {\n",
       "        vertical-align: top;\n",
       "    }\n",
       "\n",
       "    .dataframe thead th {\n",
       "        text-align: right;\n",
       "    }\n",
       "</style>\n",
       "<table border=\"1\" class=\"dataframe\">\n",
       "  <thead>\n",
       "    <tr style=\"text-align: right;\">\n",
       "      <th></th>\n",
       "      <th>overall</th>\n",
       "      <th>potential</th>\n",
       "      <th>wage_eur</th>\n",
       "      <th>value_eur</th>\n",
       "      <th>age</th>\n",
       "    </tr>\n",
       "  </thead>\n",
       "  <tbody>\n",
       "    <tr>\n",
       "      <th>0</th>\n",
       "      <td>93</td>\n",
       "      <td>93</td>\n",
       "      <td>320000.0</td>\n",
       "      <td>78000000.0</td>\n",
       "      <td>34</td>\n",
       "    </tr>\n",
       "    <tr>\n",
       "      <th>1</th>\n",
       "      <td>92</td>\n",
       "      <td>92</td>\n",
       "      <td>270000.0</td>\n",
       "      <td>119500000.0</td>\n",
       "      <td>32</td>\n",
       "    </tr>\n",
       "    <tr>\n",
       "      <th>2</th>\n",
       "      <td>91</td>\n",
       "      <td>91</td>\n",
       "      <td>270000.0</td>\n",
       "      <td>45000000.0</td>\n",
       "      <td>36</td>\n",
       "    </tr>\n",
       "    <tr>\n",
       "      <th>3</th>\n",
       "      <td>91</td>\n",
       "      <td>91</td>\n",
       "      <td>270000.0</td>\n",
       "      <td>129000000.0</td>\n",
       "      <td>29</td>\n",
       "    </tr>\n",
       "    <tr>\n",
       "      <th>4</th>\n",
       "      <td>91</td>\n",
       "      <td>91</td>\n",
       "      <td>350000.0</td>\n",
       "      <td>125500000.0</td>\n",
       "      <td>30</td>\n",
       "    </tr>\n",
       "    <tr>\n",
       "      <th>...</th>\n",
       "      <td>...</td>\n",
       "      <td>...</td>\n",
       "      <td>...</td>\n",
       "      <td>...</td>\n",
       "      <td>...</td>\n",
       "    </tr>\n",
       "    <tr>\n",
       "      <th>19234</th>\n",
       "      <td>47</td>\n",
       "      <td>52</td>\n",
       "      <td>1000.0</td>\n",
       "      <td>70000.0</td>\n",
       "      <td>22</td>\n",
       "    </tr>\n",
       "    <tr>\n",
       "      <th>19235</th>\n",
       "      <td>47</td>\n",
       "      <td>59</td>\n",
       "      <td>500.0</td>\n",
       "      <td>110000.0</td>\n",
       "      <td>19</td>\n",
       "    </tr>\n",
       "    <tr>\n",
       "      <th>19236</th>\n",
       "      <td>47</td>\n",
       "      <td>55</td>\n",
       "      <td>500.0</td>\n",
       "      <td>100000.0</td>\n",
       "      <td>21</td>\n",
       "    </tr>\n",
       "    <tr>\n",
       "      <th>19237</th>\n",
       "      <td>47</td>\n",
       "      <td>60</td>\n",
       "      <td>500.0</td>\n",
       "      <td>110000.0</td>\n",
       "      <td>19</td>\n",
       "    </tr>\n",
       "    <tr>\n",
       "      <th>19238</th>\n",
       "      <td>47</td>\n",
       "      <td>60</td>\n",
       "      <td>500.0</td>\n",
       "      <td>110000.0</td>\n",
       "      <td>19</td>\n",
       "    </tr>\n",
       "  </tbody>\n",
       "</table>\n",
       "<p>19165 rows × 5 columns</p>\n",
       "</div>"
      ],
      "text/plain": [
       "       overall  potential  wage_eur    value_eur  age\n",
       "0           93         93  320000.0   78000000.0   34\n",
       "1           92         92  270000.0  119500000.0   32\n",
       "2           91         91  270000.0   45000000.0   36\n",
       "3           91         91  270000.0  129000000.0   29\n",
       "4           91         91  350000.0  125500000.0   30\n",
       "...        ...        ...       ...          ...  ...\n",
       "19234       47         52    1000.0      70000.0   22\n",
       "19235       47         59     500.0     110000.0   19\n",
       "19236       47         55     500.0     100000.0   21\n",
       "19237       47         60     500.0     110000.0   19\n",
       "19238       47         60     500.0     110000.0   19\n",
       "\n",
       "[19165 rows x 5 columns]"
      ]
     },
     "execution_count": 7,
     "metadata": {},
     "output_type": "execute_result"
    }
   ],
   "source": [
    "features=['overall','potential','wage_eur','value_eur','age']\n",
    "players=players.dropna(subset=features)\n",
    "data=players[features].copy()\n",
    "data"
   ]
  },
  {
   "cell_type": "markdown",
   "metadata": {},
   "source": [
    "1-Scale The Data(all values scale 1-10 because each row have same value)(Orjinal verilerimizdeki varyansıda korumalıyız.)\n",
    "2-Initialize random centroids\n",
    "3-Label each data point\n",
    "4-Update centroids\n",
    "5-Repeat steps 3 and 4 until centroids stop changing"
   ]
  },
  {
   "cell_type": "code",
   "execution_count": 12,
   "metadata": {},
   "outputs": [],
   "source": [
    "data = (data - data.min()) / ((data.max() - data.min())) * 9 + 1\n",
    "# data.describe()\n",
    "# data.head()\n",
    "\n",
    "\n",
    "def randomCentroids(data, k):\n",
    "    centroids = []\n",
    "    for i in range(k):\n",
    "        centroid = data.apply(lambda x: float(x.sample()))\n",
    "        centroids.append(centroid)\n",
    "    return pd.concat(centroids,axis=1)"
   ]
  },
  {
   "cell_type": "code",
   "execution_count": 16,
   "metadata": {},
   "outputs": [
    {
     "name": "stderr",
     "output_type": "stream",
     "text": [
      "/var/folders/l4/_20yvrmx3z10qwhdq9ngyqrc0000gn/T/ipykernel_2968/3651992176.py:9: FutureWarning: Calling float on a single element Series is deprecated and will raise a TypeError in the future. Use float(ser.iloc[0]) instead\n",
      "  centroid = data.apply(lambda x: float(x.sample()))\n"
     ]
    }
   ],
   "source": [
    "random_centroids=randomCentroids(data,5)\n",
    "\n",
    "\n",
    "def getLabels(data,centroids):\n",
    "    distances=centroids.apply(lambda x:np.sqrt(((data-x) **2 ).sum(axis=1)))\n",
    "    return distances.idxmin(axis=1)\n"
   ]
  },
  {
   "cell_type": "code",
   "execution_count": 23,
   "metadata": {},
   "outputs": [
    {
     "data": {
      "text/plain": [
       "4    11474\n",
       "0     3994\n",
       "3     2867\n",
       "2      583\n",
       "1      247\n",
       "Name: count, dtype: int64"
      ]
     },
     "execution_count": 23,
     "metadata": {},
     "output_type": "execute_result"
    }
   ],
   "source": [
    "labels=getLabels(data,random_centroids)\n",
    "labels.value_counts()"
   ]
  },
  {
   "cell_type": "code",
   "execution_count": 30,
   "metadata": {},
   "outputs": [],
   "source": [
    "def new_centroids(data,labels,k):\n",
    "   return data.groupby(labels).apply(lambda x:np.exp(np.log(x).mean())).T"
   ]
  },
  {
   "cell_type": "code",
   "execution_count": 31,
   "metadata": {},
   "outputs": [],
   "source": [
    "from sklearn.decomposition import PCA\n",
    "import matplotlib.pyplot as plt\n",
    "from IPython.display import clear_output "
   ]
  },
  {
   "cell_type": "code",
   "execution_count": 32,
   "metadata": {},
   "outputs": [],
   "source": [
    "def plotCluster(data,labels,centroids,iteration):\n",
    "    pca=PCA(n_components=2)\n",
    "    data_2d=pca.fit_transform(data)\n",
    "    centroids_2d=pca.transform(centroids.T)\n",
    "    clear_output(wait=True)\n",
    "    plt.title(f'Iteration {iteration}')\n",
    "    plt.scatter(x=data_2d[:,0],y=data_2d[:,1],c=labels)\n",
    "    plt.scatter(x=centroids_2d[:,0],y=centroids_2d[:,1])\n",
    "    plt.show()"
   ]
  },
  {
   "cell_type": "code",
   "execution_count": 34,
   "metadata": {},
   "outputs": [
    {
     "data": {
      "image/png": "[encoded data removed]",
      "text/plain": [
       "<Figure size 640x480 with 1 Axes>"
      ]
     },
     "metadata": {},
     "output_type": "display_data"
    }
   ],
   "source": [
    "max_iterations =100\n",
    "k=3\n",
    "centroid=randomCentroids(data,k)\n",
    "old_centroid=pd.DataFrame()\n",
    "iteration=1\n",
    "\n",
    "while iteration<max_iterations and not centroid.equals(old_centroid):\n",
    "    old_centroid=centroid\n",
    "    labels=getLabels(data,centroid)\n",
    "    centroid=new_centroids(data,labels,k)\n",
    "    plotCluster(data,labels,centroid,iteration)\n",
    "    iteration=iteration+1"
   ]
  },
  {
   "cell_type": "code",
   "execution_count": 39,
   "metadata": {},
   "outputs": [
    {
     "data": {
      "text/html": [
       "<div>\n",
       "<style scoped>\n",
       "    .dataframe tbody tr th:only-of-type {\n",
       "        vertical-align: middle;\n",
       "    }\n",
       "\n",
       "    .dataframe tbody tr th {\n",
       "        vertical-align: top;\n",
       "    }\n",
       "\n",
       "    .dataframe thead th {\n",
       "        text-align: right;\n",
       "    }\n",
       "</style>\n",
       "<table border=\"1\" class=\"dataframe\">\n",
       "  <thead>\n",
       "    <tr style=\"text-align: right;\">\n",
       "      <th></th>\n",
       "      <th>short_name</th>\n",
       "      <th>overall</th>\n",
       "      <th>potential</th>\n",
       "      <th>wage_eur</th>\n",
       "      <th>value_eur</th>\n",
       "      <th>age</th>\n",
       "    </tr>\n",
       "  </thead>\n",
       "  <tbody>\n",
       "    <tr>\n",
       "      <th>0</th>\n",
       "      <td>L. Messi</td>\n",
       "      <td>93</td>\n",
       "      <td>93</td>\n",
       "      <td>320000.0</td>\n",
       "      <td>78000000.0</td>\n",
       "      <td>34</td>\n",
       "    </tr>\n",
       "    <tr>\n",
       "      <th>1</th>\n",
       "      <td>R. Lewandowski</td>\n",
       "      <td>92</td>\n",
       "      <td>92</td>\n",
       "      <td>270000.0</td>\n",
       "      <td>119500000.0</td>\n",
       "      <td>32</td>\n",
       "    </tr>\n",
       "    <tr>\n",
       "      <th>2</th>\n",
       "      <td>Cristiano Ronaldo</td>\n",
       "      <td>91</td>\n",
       "      <td>91</td>\n",
       "      <td>270000.0</td>\n",
       "      <td>45000000.0</td>\n",
       "      <td>36</td>\n",
       "    </tr>\n",
       "    <tr>\n",
       "      <th>3</th>\n",
       "      <td>Neymar Jr</td>\n",
       "      <td>91</td>\n",
       "      <td>91</td>\n",
       "      <td>270000.0</td>\n",
       "      <td>129000000.0</td>\n",
       "      <td>29</td>\n",
       "    </tr>\n",
       "    <tr>\n",
       "      <th>4</th>\n",
       "      <td>K. De Bruyne</td>\n",
       "      <td>91</td>\n",
       "      <td>91</td>\n",
       "      <td>350000.0</td>\n",
       "      <td>125500000.0</td>\n",
       "      <td>30</td>\n",
       "    </tr>\n",
       "    <tr>\n",
       "      <th>...</th>\n",
       "      <td>...</td>\n",
       "      <td>...</td>\n",
       "      <td>...</td>\n",
       "      <td>...</td>\n",
       "      <td>...</td>\n",
       "      <td>...</td>\n",
       "    </tr>\n",
       "    <tr>\n",
       "      <th>13245</th>\n",
       "      <td>D. Scarlett</td>\n",
       "      <td>63</td>\n",
       "      <td>86</td>\n",
       "      <td>3000.0</td>\n",
       "      <td>1500000.0</td>\n",
       "      <td>17</td>\n",
       "    </tr>\n",
       "    <tr>\n",
       "      <th>13256</th>\n",
       "      <td>L. Bate</td>\n",
       "      <td>63</td>\n",
       "      <td>83</td>\n",
       "      <td>5000.0</td>\n",
       "      <td>1300000.0</td>\n",
       "      <td>18</td>\n",
       "    </tr>\n",
       "    <tr>\n",
       "      <th>13351</th>\n",
       "      <td>Llabrés</td>\n",
       "      <td>63</td>\n",
       "      <td>81</td>\n",
       "      <td>3000.0</td>\n",
       "      <td>1200000.0</td>\n",
       "      <td>19</td>\n",
       "    </tr>\n",
       "    <tr>\n",
       "      <th>14144</th>\n",
       "      <td>H. Mejbri</td>\n",
       "      <td>62</td>\n",
       "      <td>84</td>\n",
       "      <td>6000.0</td>\n",
       "      <td>1300000.0</td>\n",
       "      <td>18</td>\n",
       "    </tr>\n",
       "    <tr>\n",
       "      <th>14349</th>\n",
       "      <td>R. Lavia</td>\n",
       "      <td>62</td>\n",
       "      <td>85</td>\n",
       "      <td>700.0</td>\n",
       "      <td>1200000.0</td>\n",
       "      <td>17</td>\n",
       "    </tr>\n",
       "  </tbody>\n",
       "</table>\n",
       "<p>5769 rows × 6 columns</p>\n",
       "</div>"
      ],
      "text/plain": [
       "              short_name  overall  potential  wage_eur    value_eur  age\n",
       "0               L. Messi       93         93  320000.0   78000000.0   34\n",
       "1         R. Lewandowski       92         92  270000.0  119500000.0   32\n",
       "2      Cristiano Ronaldo       91         91  270000.0   45000000.0   36\n",
       "3              Neymar Jr       91         91  270000.0  129000000.0   29\n",
       "4           K. De Bruyne       91         91  350000.0  125500000.0   30\n",
       "...                  ...      ...        ...       ...          ...  ...\n",
       "13245        D. Scarlett       63         86    3000.0    1500000.0   17\n",
       "13256            L. Bate       63         83    5000.0    1300000.0   18\n",
       "13351            Llabrés       63         81    3000.0    1200000.0   19\n",
       "14144          H. Mejbri       62         84    6000.0    1300000.0   18\n",
       "14349           R. Lavia       62         85     700.0    1200000.0   17\n",
       "\n",
       "[5769 rows x 6 columns]"
      ]
     },
     "execution_count": 39,
     "metadata": {},
     "output_type": "execute_result"
    }
   ],
   "source": [
    "players[labels==1][['short_name']+features]"
   ]
  },
  {
   "cell_type": "code",
   "execution_count": 35,
   "metadata": {},
   "outputs": [
    {
     "data": {
      "text/html": [
       "<div>\n",
       "<style scoped>\n",
       "    .dataframe tbody tr th:only-of-type {\n",
       "        vertical-align: middle;\n",
       "    }\n",
       "\n",
       "    .dataframe tbody tr th {\n",
       "        vertical-align: top;\n",
       "    }\n",
       "\n",
       "    .dataframe thead th {\n",
       "        text-align: right;\n",
       "    }\n",
       "</style>\n",
       "<table border=\"1\" class=\"dataframe\">\n",
       "  <thead>\n",
       "    <tr style=\"text-align: right;\">\n",
       "      <th></th>\n",
       "      <th>0</th>\n",
       "      <th>1</th>\n",
       "      <th>2</th>\n",
       "    </tr>\n",
       "  </thead>\n",
       "  <tbody>\n",
       "    <tr>\n",
       "      <th>overall</th>\n",
       "      <td>4.784633</td>\n",
       "      <td>5.806043</td>\n",
       "      <td>3.206838</td>\n",
       "    </tr>\n",
       "    <tr>\n",
       "      <th>potential</th>\n",
       "      <td>4.506962</td>\n",
       "      <td>6.497993</td>\n",
       "      <td>4.928473</td>\n",
       "    </tr>\n",
       "    <tr>\n",
       "      <th>wage_eur</th>\n",
       "      <td>1.118904</td>\n",
       "      <td>1.420001</td>\n",
       "      <td>1.028505</td>\n",
       "    </tr>\n",
       "    <tr>\n",
       "      <th>value_eur</th>\n",
       "      <td>1.044980</td>\n",
       "      <td>1.285501</td>\n",
       "      <td>1.026614</td>\n",
       "    </tr>\n",
       "    <tr>\n",
       "      <th>age</th>\n",
       "      <td>5.472247</td>\n",
       "      <td>3.596161</td>\n",
       "      <td>2.518708</td>\n",
       "    </tr>\n",
       "  </tbody>\n",
       "</table>\n",
       "</div>"
      ],
      "text/plain": [
       "                  0         1         2\n",
       "overall    4.784633  5.806043  3.206838\n",
       "potential  4.506962  6.497993  4.928473\n",
       "wage_eur   1.118904  1.420001  1.028505\n",
       "value_eur  1.044980  1.285501  1.026614\n",
       "age        5.472247  3.596161  2.518708"
      ]
     },
     "execution_count": 35,
     "metadata": {},
     "output_type": "execute_result"
    }
   ],
   "source": [
    "centroid"
   ]
  },
  {
   "cell_type": "code",
   "execution_count": 41,
   "metadata": {},
   "outputs": [
    {
     "name": "stderr",
     "output_type": "stream",
     "text": [
      "/Users/huseyin/Library/Python/3.8/lib/python/site-packages/sklearn/cluster/_kmeans.py:1412: FutureWarning: The default value of `n_init` will change from 10 to 'auto' in 1.4. Set the value of `n_init` explicitly to suppress the warning\n",
      "  super()._check_params_vs_input(X, default_n_init=10)\n"
     ]
    },
    {
     "ename": "AttributeError",
     "evalue": "'KMeans' object has no attribute 'n_cluster_centers_'",
     "output_type": "error",
     "traceback": [
      "\u001b[0;31m---------------------------------------------------------------------------\u001b[0m",
      "\u001b[0;31mAttributeError\u001b[0m                            Traceback (most recent call last)",
      "Cell \u001b[0;32mIn[41], line 8\u001b[0m\n\u001b[1;32m      4\u001b[0m kmeans\u001b[39m.\u001b[39mfit(data)\n\u001b[1;32m      6\u001b[0m KMeans(n_clusters\u001b[39m=\u001b[39m\u001b[39m3\u001b[39m)\n\u001b[0;32m----> 8\u001b[0m centroid\u001b[39m=\u001b[39mkmeans\u001b[39m.\u001b[39;49mn_cluster_centers_\n",
      "\u001b[0;31mAttributeError\u001b[0m: 'KMeans' object has no attribute 'n_cluster_centers_'"
     ]
    }
   ],
   "source": [
    "from sklearn.cluster import KMeans\n",
    "\n",
    "kmeans=KMeans(3)\n",
    "kmeans.fit(data)\n",
    "\n",
    "KMeans(n_clusters=3)\n",
    "\n",
    "centroid=kmeans.cluster_centers_\n",
    "\n",
    "pd.DataFrame(centroid,columns=features)\n",
    "\n"
   ]
  }
 ],
 "metadata": {
  "kernelspec": {
   "display_name": "Python 3",
   "language": "python",
   "name": "python3"
  },
  "language_info": {
   "codemirror_mode": {
    "name": "ipython",
    "version": 3
   },
   "file_extension": ".py",
   "mimetype": "text/x-python",
   "name": "python",
   "nbconvert_exporter": "python",
   "pygments_lexer": "ipython3",
   "version": "3.8.9"
  },
  "orig_nbformat": 4,
  "vscode": {
   "interpreter": {
    "hash": "31f2aee4e71d21fbe5cf8b01ff0e069b9275f58929596ceb00d14d90e3e16cd6"
   }
  }
 },
 "nbformat": 4,
 "nbformat_minor": 2
}
